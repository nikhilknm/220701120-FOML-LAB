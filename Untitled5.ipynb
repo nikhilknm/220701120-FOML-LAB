{
 "cells": [
  {
   "cell_type": "code",
   "execution_count": 4,
   "id": "349b5078-8110-4011-889c-4d15277fd11d",
   "metadata": {},
   "outputs": [
    {
     "name": "stdout",
     "output_type": "stream",
     "text": [
      "   Fan  Refrigerator  AirConditioner  Television  Monitor  MotorPump  Month  \\\n",
      "0   16          23.0             2.0         6.0      1.0          0     10   \n",
      "1   19          22.0             2.0         3.0      1.0          0      5   \n",
      "2    7          20.0             2.0         6.0      7.0          0      7   \n",
      "3    7          22.0             3.0        21.0      1.0          0      6   \n",
      "4   11          23.0             2.0        11.0      1.0          0      2   \n",
      "\n",
      "        City                                    Company  MonthlyHours  \\\n",
      "0  Hyderabad                    Tata Power Company Ltd.           384   \n",
      "1   Vadodara                                       NHPC           488   \n",
      "2     Shimla                            Jyoti Structure           416   \n",
      "3     Mumbai                            Power Grid Corp           475   \n",
      "4     Mumbai  Ratnagiri Gas and Power Pvt. Ltd. (RGPPL)           457   \n",
      "\n",
      "   TariffRate  ElectricityBill  \n",
      "0         8.4           3225.6  \n",
      "1         7.8           3806.4  \n",
      "2         7.7           3203.2  \n",
      "3         9.2           4370.0  \n",
      "4         9.2           4204.4  \n",
      "Fan                0\n",
      "Refrigerator       0\n",
      "AirConditioner     0\n",
      "Television         0\n",
      "Monitor            0\n",
      "MotorPump          0\n",
      "Month              0\n",
      "City               0\n",
      "Company            0\n",
      "MonthlyHours       0\n",
      "TariffRate         0\n",
      "ElectricityBill    0\n",
      "dtype: int64\n"
     ]
    }
   ],
   "source": [
    "import pandas as pd\n",
    "\n",
    "# Load the dataset (replace 'path_to_your_downloaded_file.csv' with the actual file path)\n",
    "dataset = pd.read_csv('electricity_bill_dataset.csv')\n",
    "\n",
    "# Display the first few rows of the dataset\n",
    "print(dataset.head())\n",
    "\n",
    "# Check for missing values\n",
    "print(dataset.isnull().sum())\n",
    "\n",
    "\n",
    "\n",
    "# Convert categorical columns to numerical (if any)\n",
    "# Example: dataset['column_name'] = dataset['column_name'].astype('category').cat.codes\n"
   ]
  },
  {
   "cell_type": "code",
   "execution_count": 6,
   "id": "d738c05f-7199-47b8-8583-f71624214201",
   "metadata": {},
   "outputs": [
    {
     "ename": "KeyError",
     "evalue": "\"['electricity_consumption'] not found in axis\"",
     "output_type": "error",
     "traceback": [
      "\u001b[1;31m---------------------------------------------------------------------------\u001b[0m",
      "\u001b[1;31mKeyError\u001b[0m                                  Traceback (most recent call last)",
      "Cell \u001b[1;32mIn[6], line 2\u001b[0m\n\u001b[0;32m      1\u001b[0m \u001b[38;5;66;03m# Split the data into features (X) and target (y)\u001b[39;00m\n\u001b[1;32m----> 2\u001b[0m X \u001b[38;5;241m=\u001b[39m dataset\u001b[38;5;241m.\u001b[39mdrop(\u001b[38;5;124m'\u001b[39m\u001b[38;5;124melectricity_consumption\u001b[39m\u001b[38;5;124m'\u001b[39m, axis\u001b[38;5;241m=\u001b[39m\u001b[38;5;241m1\u001b[39m)  \u001b[38;5;66;03m# Replace 'electricity_consumption' with the actual target column\u001b[39;00m\n\u001b[0;32m      3\u001b[0m y \u001b[38;5;241m=\u001b[39m dataset[\u001b[38;5;124m'\u001b[39m\u001b[38;5;124melectricity_consumption\u001b[39m\u001b[38;5;124m'\u001b[39m]\n",
      "File \u001b[1;32m~\\anaconda3\\Lib\\site-packages\\pandas\\core\\frame.py:5581\u001b[0m, in \u001b[0;36mDataFrame.drop\u001b[1;34m(self, labels, axis, index, columns, level, inplace, errors)\u001b[0m\n\u001b[0;32m   5433\u001b[0m \u001b[38;5;28;01mdef\u001b[39;00m \u001b[38;5;21mdrop\u001b[39m(\n\u001b[0;32m   5434\u001b[0m     \u001b[38;5;28mself\u001b[39m,\n\u001b[0;32m   5435\u001b[0m     labels: IndexLabel \u001b[38;5;241m|\u001b[39m \u001b[38;5;28;01mNone\u001b[39;00m \u001b[38;5;241m=\u001b[39m \u001b[38;5;28;01mNone\u001b[39;00m,\n\u001b[1;32m   (...)\u001b[0m\n\u001b[0;32m   5442\u001b[0m     errors: IgnoreRaise \u001b[38;5;241m=\u001b[39m \u001b[38;5;124m\"\u001b[39m\u001b[38;5;124mraise\u001b[39m\u001b[38;5;124m\"\u001b[39m,\n\u001b[0;32m   5443\u001b[0m ) \u001b[38;5;241m-\u001b[39m\u001b[38;5;241m>\u001b[39m DataFrame \u001b[38;5;241m|\u001b[39m \u001b[38;5;28;01mNone\u001b[39;00m:\n\u001b[0;32m   5444\u001b[0m \u001b[38;5;250m    \u001b[39m\u001b[38;5;124;03m\"\"\"\u001b[39;00m\n\u001b[0;32m   5445\u001b[0m \u001b[38;5;124;03m    Drop specified labels from rows or columns.\u001b[39;00m\n\u001b[0;32m   5446\u001b[0m \n\u001b[1;32m   (...)\u001b[0m\n\u001b[0;32m   5579\u001b[0m \u001b[38;5;124;03m            weight  1.0     0.8\u001b[39;00m\n\u001b[0;32m   5580\u001b[0m \u001b[38;5;124;03m    \"\"\"\u001b[39;00m\n\u001b[1;32m-> 5581\u001b[0m     \u001b[38;5;28;01mreturn\u001b[39;00m \u001b[38;5;28msuper\u001b[39m()\u001b[38;5;241m.\u001b[39mdrop(\n\u001b[0;32m   5582\u001b[0m         labels\u001b[38;5;241m=\u001b[39mlabels,\n\u001b[0;32m   5583\u001b[0m         axis\u001b[38;5;241m=\u001b[39maxis,\n\u001b[0;32m   5584\u001b[0m         index\u001b[38;5;241m=\u001b[39mindex,\n\u001b[0;32m   5585\u001b[0m         columns\u001b[38;5;241m=\u001b[39mcolumns,\n\u001b[0;32m   5586\u001b[0m         level\u001b[38;5;241m=\u001b[39mlevel,\n\u001b[0;32m   5587\u001b[0m         inplace\u001b[38;5;241m=\u001b[39minplace,\n\u001b[0;32m   5588\u001b[0m         errors\u001b[38;5;241m=\u001b[39merrors,\n\u001b[0;32m   5589\u001b[0m     )\n",
      "File \u001b[1;32m~\\anaconda3\\Lib\\site-packages\\pandas\\core\\generic.py:4788\u001b[0m, in \u001b[0;36mNDFrame.drop\u001b[1;34m(self, labels, axis, index, columns, level, inplace, errors)\u001b[0m\n\u001b[0;32m   4786\u001b[0m \u001b[38;5;28;01mfor\u001b[39;00m axis, labels \u001b[38;5;129;01min\u001b[39;00m axes\u001b[38;5;241m.\u001b[39mitems():\n\u001b[0;32m   4787\u001b[0m     \u001b[38;5;28;01mif\u001b[39;00m labels \u001b[38;5;129;01mis\u001b[39;00m \u001b[38;5;129;01mnot\u001b[39;00m \u001b[38;5;28;01mNone\u001b[39;00m:\n\u001b[1;32m-> 4788\u001b[0m         obj \u001b[38;5;241m=\u001b[39m obj\u001b[38;5;241m.\u001b[39m_drop_axis(labels, axis, level\u001b[38;5;241m=\u001b[39mlevel, errors\u001b[38;5;241m=\u001b[39merrors)\n\u001b[0;32m   4790\u001b[0m \u001b[38;5;28;01mif\u001b[39;00m inplace:\n\u001b[0;32m   4791\u001b[0m     \u001b[38;5;28mself\u001b[39m\u001b[38;5;241m.\u001b[39m_update_inplace(obj)\n",
      "File \u001b[1;32m~\\anaconda3\\Lib\\site-packages\\pandas\\core\\generic.py:4830\u001b[0m, in \u001b[0;36mNDFrame._drop_axis\u001b[1;34m(self, labels, axis, level, errors, only_slice)\u001b[0m\n\u001b[0;32m   4828\u001b[0m         new_axis \u001b[38;5;241m=\u001b[39m axis\u001b[38;5;241m.\u001b[39mdrop(labels, level\u001b[38;5;241m=\u001b[39mlevel, errors\u001b[38;5;241m=\u001b[39merrors)\n\u001b[0;32m   4829\u001b[0m     \u001b[38;5;28;01melse\u001b[39;00m:\n\u001b[1;32m-> 4830\u001b[0m         new_axis \u001b[38;5;241m=\u001b[39m axis\u001b[38;5;241m.\u001b[39mdrop(labels, errors\u001b[38;5;241m=\u001b[39merrors)\n\u001b[0;32m   4831\u001b[0m     indexer \u001b[38;5;241m=\u001b[39m axis\u001b[38;5;241m.\u001b[39mget_indexer(new_axis)\n\u001b[0;32m   4833\u001b[0m \u001b[38;5;66;03m# Case for non-unique axis\u001b[39;00m\n\u001b[0;32m   4834\u001b[0m \u001b[38;5;28;01melse\u001b[39;00m:\n",
      "File \u001b[1;32m~\\anaconda3\\Lib\\site-packages\\pandas\\core\\indexes\\base.py:7070\u001b[0m, in \u001b[0;36mIndex.drop\u001b[1;34m(self, labels, errors)\u001b[0m\n\u001b[0;32m   7068\u001b[0m \u001b[38;5;28;01mif\u001b[39;00m mask\u001b[38;5;241m.\u001b[39many():\n\u001b[0;32m   7069\u001b[0m     \u001b[38;5;28;01mif\u001b[39;00m errors \u001b[38;5;241m!=\u001b[39m \u001b[38;5;124m\"\u001b[39m\u001b[38;5;124mignore\u001b[39m\u001b[38;5;124m\"\u001b[39m:\n\u001b[1;32m-> 7070\u001b[0m         \u001b[38;5;28;01mraise\u001b[39;00m \u001b[38;5;167;01mKeyError\u001b[39;00m(\u001b[38;5;124mf\u001b[39m\u001b[38;5;124m\"\u001b[39m\u001b[38;5;132;01m{\u001b[39;00mlabels[mask]\u001b[38;5;241m.\u001b[39mtolist()\u001b[38;5;132;01m}\u001b[39;00m\u001b[38;5;124m not found in axis\u001b[39m\u001b[38;5;124m\"\u001b[39m)\n\u001b[0;32m   7071\u001b[0m     indexer \u001b[38;5;241m=\u001b[39m indexer[\u001b[38;5;241m~\u001b[39mmask]\n\u001b[0;32m   7072\u001b[0m \u001b[38;5;28;01mreturn\u001b[39;00m \u001b[38;5;28mself\u001b[39m\u001b[38;5;241m.\u001b[39mdelete(indexer)\n",
      "\u001b[1;31mKeyError\u001b[0m: \"['electricity_consumption'] not found in axis\""
     ]
    }
   ],
   "source": [
    "# Split the data into features (X) and target (y)\n",
    "X = dataset.drop('electricity_consumption', axis=1)  # Replace 'electricity_consumption' with the actual target column\n",
    "y = dataset['electricity_consumption']\n"
   ]
  },
  {
   "cell_type": "code",
   "execution_count": 8,
   "id": "75621867-b4b0-4982-99c0-9f5d597a7ab9",
   "metadata": {},
   "outputs": [
    {
     "name": "stdout",
     "output_type": "stream",
     "text": [
      "Index(['Fan', 'Refrigerator', 'AirConditioner', 'Television', 'Monitor',\n",
      "       'MotorPump', 'Month', 'City', 'Company', 'MonthlyHours', 'TariffRate',\n",
      "       'ElectricityBill'],\n",
      "      dtype='object')\n"
     ]
    }
   ],
   "source": [
    "# Display column names to verify the correct target column name\n",
    "print(dataset.columns)\n"
   ]
  },
  {
   "cell_type": "code",
   "execution_count": 10,
   "id": "86f5f5a5-f853-4596-a16a-b8ce17d96af6",
   "metadata": {},
   "outputs": [
    {
     "name": "stdout",
     "output_type": "stream",
     "text": [
      "   Fan  Refrigerator  AirConditioner  Television  Monitor  MotorPump  Month  \\\n",
      "0   16          23.0             2.0         6.0      1.0          0     10   \n",
      "1   19          22.0             2.0         3.0      1.0          0      5   \n",
      "2    7          20.0             2.0         6.0      7.0          0      7   \n",
      "3    7          22.0             3.0        21.0      1.0          0      6   \n",
      "4   11          23.0             2.0        11.0      1.0          0      2   \n",
      "\n",
      "        City                                    Company  MonthlyHours  \\\n",
      "0  Hyderabad                    Tata Power Company Ltd.           384   \n",
      "1   Vadodara                                       NHPC           488   \n",
      "2     Shimla                            Jyoti Structure           416   \n",
      "3     Mumbai                            Power Grid Corp           475   \n",
      "4     Mumbai  Ratnagiri Gas and Power Pvt. Ltd. (RGPPL)           457   \n",
      "\n",
      "   TariffRate  \n",
      "0         8.4  \n",
      "1         7.8  \n",
      "2         7.7  \n",
      "3         9.2  \n",
      "4         9.2  \n",
      "0    3225.6\n",
      "1    3806.4\n",
      "2    3203.2\n",
      "3    4370.0\n",
      "4    4204.4\n",
      "Name: ElectricityBill, dtype: float64\n"
     ]
    }
   ],
   "source": [
    "# Split the data into features (X) and target (y)\n",
    "X = dataset.drop('ElectricityBill', axis=1)  # Drop 'ElectricityBill' from features\n",
    "y = dataset['ElectricityBill']  # Target is 'ElectricityBill'\n",
    "\n",
    "# Display the first few rows of the features and target to confirm\n",
    "print(X.head())\n",
    "print(y.head())\n"
   ]
  },
  {
   "cell_type": "code",
   "execution_count": 12,
   "id": "16b025d0-571b-4d0d-b58e-97a37e25aade",
   "metadata": {},
   "outputs": [
    {
     "name": "stdout",
     "output_type": "stream",
     "text": [
      "   Fan  Refrigerator  AirConditioner  Television  Monitor  MotorPump  Month  \\\n",
      "0   16          23.0             2.0         6.0      1.0          0      9   \n",
      "1   19          22.0             2.0         3.0      1.0          0      4   \n",
      "2    7          20.0             2.0         6.0      7.0          0      6   \n",
      "3    7          22.0             3.0        21.0      1.0          0      5   \n",
      "4   11          23.0             2.0        11.0      1.0          0      1   \n",
      "\n",
      "   City  Company  MonthlyHours  TariffRate  \n",
      "0     5       27           384         8.4  \n",
      "1    15       13           488         7.8  \n",
      "2    14        8           416         7.7  \n",
      "3     7       19           475         9.2  \n",
      "4     7       20           457         9.2  \n"
     ]
    }
   ],
   "source": [
    "from sklearn.preprocessing import LabelEncoder\n",
    "\n",
    "# Encode categorical features (if necessary)\n",
    "le = LabelEncoder()\n",
    "\n",
    "X['Month'] = le.fit_transform(X['Month'])\n",
    "X['City'] = le.fit_transform(X['City'])\n",
    "X['Company'] = le.fit_transform(X['Company'])\n",
    "\n",
    "# Verify the encoding\n",
    "print(X.head())\n"
   ]
  },
  {
   "cell_type": "code",
   "execution_count": 14,
   "id": "1f273c6c-8b47-4860-b7fd-b09447407cdf",
   "metadata": {},
   "outputs": [],
   "source": [
    "from sklearn.model_selection import train_test_split\n",
    "\n",
    "# Split the data (80% train, 20% test)\n",
    "X_train, X_test, y_train, y_test = train_test_split(X, y, test_size=0.2, random_state=42)\n"
   ]
  },
  {
   "cell_type": "code",
   "execution_count": 16,
   "id": "9d001ef1-9a07-4798-b75c-0a6ad64f3770",
   "metadata": {},
   "outputs": [
    {
     "name": "stdout",
     "output_type": "stream",
     "text": [
      "Random Forest R^2:  0.9999758752664036\n",
      "Random Forest MSE:  27.48817956566349\n"
     ]
    }
   ],
   "source": [
    "from sklearn.ensemble import RandomForestRegressor\n",
    "from sklearn.metrics import mean_squared_error, r2_score\n",
    "\n",
    "# Initialize and train Random Forest Regressor\n",
    "rf_model = RandomForestRegressor(random_state=42)\n",
    "rf_model.fit(X_train, y_train)\n",
    "\n",
    "# Predict on test set\n",
    "rf_predictions = rf_model.predict(X_test)\n",
    "\n",
    "# Calculate R^2 score and Mean Squared Error (MSE)\n",
    "rf_r2 = r2_score(y_test, rf_predictions)\n",
    "rf_mse = mean_squared_error(y_test, rf_predictions)\n",
    "\n",
    "print(\"Random Forest R^2: \", rf_r2)\n",
    "print(\"Random Forest MSE: \", rf_mse)\n"
   ]
  },
  {
   "cell_type": "code",
   "execution_count": 18,
   "id": "04cefbd4-b0b1-4053-a464-b66bdd676e5d",
   "metadata": {},
   "outputs": [
    {
     "name": "stdout",
     "output_type": "stream",
     "text": [
      "Gradient Boosting R^2:  0.9995446714436673\n",
      "Gradient Boosting MSE:  518.8100033464806\n"
     ]
    }
   ],
   "source": [
    "from sklearn.ensemble import GradientBoostingRegressor\n",
    "\n",
    "# Initialize and train Gradient Boosting Regressor\n",
    "gb_model = GradientBoostingRegressor(random_state=42)\n",
    "gb_model.fit(X_train, y_train)\n",
    "\n",
    "# Predict on test set\n",
    "gb_predictions = gb_model.predict(X_test)\n",
    "\n",
    "# Calculate R^2 score and Mean Squared Error (MSE)\n",
    "gb_r2 = r2_score(y_test, gb_predictions)\n",
    "gb_mse = mean_squared_error(y_test, gb_predictions)\n",
    "\n",
    "print(\"Gradient Boosting R^2: \", gb_r2)\n",
    "print(\"Gradient Boosting MSE: \", gb_mse)\n"
   ]
  },
  {
   "cell_type": "code",
   "execution_count": 20,
   "id": "bf16aecb-7b6c-4bbb-89fb-af817b418a51",
   "metadata": {},
   "outputs": [
    {
     "data": {
      "image/png": "[encoded data removed]",
      "text/plain": [
       "<Figure size 1200x600 with 2 Axes>"
      ]
     },
     "metadata": {},
     "output_type": "display_data"
    }
   ],
   "source": [
    "import matplotlib.pyplot as plt\n",
    "import numpy as np\n",
    "\n",
    "# Accuracy scores for both models\n",
    "r2_scores = [rf_r2, gb_r2]\n",
    "mse_scores = [rf_mse, gb_mse]\n",
    "models = ['Random Forest', 'Gradient Boosting']\n",
    "\n",
    "# Create a bar plot for R² scores\n",
    "fig, ax = plt.subplots(1, 2, figsize=(12, 6))\n",
    "\n",
    "# Plot R² Scores\n",
    "ax[0].bar(models, r2_scores, color=['blue', 'green'])\n",
    "ax[0].set_title('Model Comparison: R² Score')\n",
    "ax[0].set_xlabel('Model')\n",
    "ax[0].set_ylabel('R²')\n",
    "\n",
    "# Plot MSE Scores\n",
    "ax[1].bar(models, mse_scores, color=['blue', 'green'])\n",
    "ax[1].set_title('Model Comparison: MSE')\n",
    "ax[1].set_xlabel('Model')\n",
    "ax[1].set_ylabel('Mean Squared Error')\n",
    "\n",
    "plt.tight_layout()\n",
    "plt.show()\n"
   ]
  },
  {
   "cell_type": "code",
   "execution_count": null,
   "id": "12853880-9599-4797-96de-98c508c3724b",
   "metadata": {},
   "outputs": [],
   "source": []
  }
 ],
 "metadata": {
  "kernelspec": {
   "display_name": "Python [conda env:base] *",
   "language": "python",
   "name": "conda-base-py"
  },
  "language_info": {
   "codemirror_mode": {
    "name": "ipython",
    "version": 3
   },
   "file_extension": ".py",
   "mimetype": "text/x-python",
   "name": "python",
   "nbconvert_exporter": "python",
   "pygments_lexer": "ipython3",
   "version": "3.12.7"
  }
 },
 "nbformat": 4,
 "nbformat_minor": 5
}
